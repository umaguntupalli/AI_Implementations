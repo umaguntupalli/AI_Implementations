{
 "cells": [
  {
   "cell_type": "markdown",
   "metadata": {
    "id": "MzZ4dJQYF7sH"
   },
   "source": [
    "# Artificial and Computational Intelligence Assignment 1"
   ]
  },
  {
   "cell_type": "markdown",
   "metadata": {
    "id": "Fxb1aE9zF7sK"
   },
   "source": [
    "## Problem solving by Uninformed & Informed Search"
   ]
  },
  {
   "cell_type": "markdown",
   "metadata": {
    "id": "h35jIBbCF7sK"
   },
   "source": [
    "List only the BITS (Name) of active contributors in this assignment:\n",
    "1. U M RAO GUNTUPALLI (2023da04005)\n",
   ]
  },
  {
   "cell_type": "markdown",
   "metadata": {
    "id": "pt5ygv_zF7sL"
   },
   "source": [
    "Things to follow\n",
    "1.\tUse appropriate data structures to represent the graph and the path using python libraries\n",
    "2.\tProvide proper documentation\n",
    "3.\tFind the path and print it"
   ]
  },
  {
   "cell_type": "markdown",
   "metadata": {
    "id": "wZfop5ElF7sL"
   },
   "source": [
    "Coding begins here"
   ]
  },
  {
   "cell_type": "markdown",
   "metadata": {
    "id": "IL0QDMy3F7sL"
   },
   "source": [
    "### 1.\tDefine the environment in the following block"
   ]
  },
  {
   "cell_type": "markdown",
   "metadata": {
    "id": "RYwJPNLIF7sM"
   },
   "source": [
    "List the PEAS decription of the problem here in this markdown block"
   ]
  },
  {
   "cell_type": "markdown",
   "metadata": {
    "id": "XJ3cHp1IF7sM"
   },
   "source": [
    "Design the agent as PSA Agent(Problem Solving Agent)\n",
    "Clear Initial data structures to define the graph and variable declarations is expected\n",
    "IMPORTATANT: Write distinct code block as below"
   ]
  },
  {
   "cell_type": "code",
   "execution_count": 1,
   "metadata": {
    "id": "osp61RsLF7sN"
   },
   "outputs": [],
   "source": [
    "#Initial State : Setting Initial state defining the cities location\n",
    "import math\n",
    "from collections import defaultdict, deque\n",
    "import time\n",
    "import sys\n",
    "\n",
    "cities = {\n",
    "    'Panaji': (15.4909, 73.8278),\n",
    "    'Raichur': (16.2076, 77.3463),\n",
    "    'Mangalore': (12.9141, 74.8560),\n",
    "    'Bellari': (15.1394, 76.9214),\n",
    "    'Tirupathi': (13.6288, 79.4192),\n",
    "    'Kurnool': (15.8281, 78.0373),\n",
    "    'Kozhikode': (11.2588, 75.7804),\n",
    "    'Bangalore': (12.9716, 77.5946),\n",
    "    'Nellore': (14.4426, 79.9865),\n",
    "    'Chennai': (13.0827, 80.2707)\n",
    "}\n"
   ]
  },
  {
   "cell_type": "code",
   "execution_count": 2,
   "metadata": {
    "id": "XODwoWZ0F7sO"
   },
   "outputs": [],
   "source": [
    "#Define Dictionary : Set the data structure with every city and its distance from others as per graph\n",
    "\n",
    "graph = {\n",
    "    'Panaji': {'Raichur': 457, 'Mangalore': 365},\n",
    "    'Raichur': {'Panaji': 457, 'Tirupathi': 453, 'Kurnool': 100},\n",
    "    'Mangalore': {'Panaji': 360, 'Bangalore': 352, 'Kozhikode': 233},\n",
    "    'Kozhikode': {'Mangalore': 233, 'Bangalore': 356},\n",
    "    'Bangalore': {'Mangalore': 352, 'Bellari': 153, 'Kozhikode': 356, 'Chennai': 346},\n",
    "    'Chennai': {'Tirupathi': 153, 'Bangalore': 346, 'Nellore': 175},\n",
    "    'Bellari': {'Tirupathi': 379, 'Bangalore': 153},\n",
    "    'Tirupathi': {'Bellari': 379, 'Raichur': 453, 'Chennai': 153},\n",
    "    'Kurnool': {'Raichur': 100, 'Nellore': 325},\n",
    "    'Nellore': {'Kurnool': 325, 'Chennai': 175},\n",
    "}\n",
    "\n",
    "def haversine(lat1, lon1, lat2, lon2):\n",
    "    # Convert latitude and longitude from degrees to radians\n",
    "    lat1, lon1, lat2, lon2 = map(math.radians, [lat1, lon1, lat2, lon2])\n",
    "\n",
    "    # Haversine formula\n",
    "    dlat = lat2 - lat1\n",
    "    dlon = lon2 - lon1\n",
    "    a = math.sin(dlat / 2)**2 + math.cos(lat1) * math.cos(lat2) * math.sin(dlon / 2)**2\n",
    "    c = 2 * math.atan2(math.sqrt(a), math.sqrt(1 - a))\n",
    "    r = 6371  # Radius of earth in kilometers\n",
    "    return r * c\n",
    "\n",
    "def compute_heuristic(destination):\n",
    "    heuristic = {}\n",
    "    dest_lat, dest_lon = cities[destination]\n",
    "    for city, (lat, lon) in cities.items():\n",
    "        heuristic[city] = haversine(lat, lon, dest_lat, dest_lon)\n",
    "    return heuristic\n"
   ]
  },
  {
   "cell_type": "code",
   "execution_count": 3,
   "metadata": {
    "id": "ro24Gaj7F7sO"
   },
   "outputs": [],
   "source": [
    "#Code Block : Write function to design the Transition Model/Successor function. Ideally this would be called while search algorithms are implemented\n",
    "def get_successors(city):\n",
    "    return graph[city].items()"
   ]
  },
  {
   "cell_type": "code",
   "execution_count": 4,
   "metadata": {
    "id": "HIVPhrRWF7sO"
   },
   "outputs": [],
   "source": [
    "#Code block : Write fucntion to handle goal test (Must handle dynamic inputs). Ideally this would be called while search algorithms are implemented\n",
    "def is_goal(city, goal):\n",
    "    return city == goal"
   ]
  },
  {
   "cell_type": "markdown",
   "metadata": {
    "id": "Z4QwDeX5F7sO"
   },
   "source": [
    "### 2. Recursive Best First Search "
   ]
  },
  {
   "cell_type": "code",
   "execution_count": 5,
   "metadata": {
    "id": "zD_EPCHWF7sO"
   },
   "outputs": [],
   "source": [
    "#RFBS Fuction : : Is a heuristic search algorithm , improvement on the Best First Search (BFS)\n",
    "def rbfs(graph, heuristic, start, goal):\n",
    "    node_expansions = 0\n",
    "    max_recursion_depth = 0\n",
    "\n",
    "    def recursive_best_first_search(node, f_cost, bound, path, depth, visited):\n",
    "        nonlocal node_expansions, max_recursion_depth\n",
    "        node_expansions += 1\n",
    "        max_recursion_depth = max(max_recursion_depth, depth)\n",
    "\n",
    "        if is_goal(node, goal):\n",
    "            return path + [node], 0\n",
    "\n",
    "        successors = []\n",
    "        for successor, cost in get_successors(node):\n",
    "            if successor not in visited:\n",
    "                g_cost = f_cost - heuristic[node] + cost\n",
    "                successors.append({'node': successor, 'f': g_cost + heuristic[successor], 'g': g_cost})\n",
    "\n",
    "        if not successors:\n",
    "            return None, sys.maxsize\n",
    "\n",
    "        while True:\n",
    "            successors.sort(key=lambda x: x['f'])\n",
    "            best = successors[0]\n",
    "            if best['f'] > bound:\n",
    "                return None, best['f']\n",
    "\n",
    "            alternative = successors[1]['f'] if len(successors) > 1 else sys.maxsize\n",
    "            result, best['f'] = recursive_best_first_search(best['node'], best['g'], min(bound, alternative), path + [node], depth + 1, visited | {best['node']})\n",
    "            if result is not None:\n",
    "                return result, best['f']\n",
    "\n",
    "    path, _ = recursive_best_first_search(start, heuristic[start], sys.maxsize, [], 1, {start})\n",
    "    return path, node_expansions, max_recursion_depth"
   ]
  },
  {
   "cell_type": "markdown",
   "metadata": {
    "id": "KnbdDl6HF7sO"
   },
   "source": [
    "### 3.\tIterative Deepening Algorithm"
   ]
  },
  {
   "cell_type": "code",
   "execution_count": 6,
   "metadata": {
    "id": "3HYh7-eJF7sP"
   },
   "outputs": [],
   "source": [
    "#IDA A*: A graph traversal and path-finding method \n",
    "explored_nodes = set()\n",
    "ida_max_recursion_depth = 0\n",
    "def ida_star(start, goal):\n",
    "    global explored_nodes\n",
    "    global ida_max_recursion_depth\n",
    "    start_time = time.time()\n",
    "    max_depth = 0\n",
    "    heuristic = compute_heuristic(goal)\n",
    "\n",
    "    def dfs(path, g, bound, depth):\n",
    "        global explored_nodes\n",
    "        global ida_max_recursion_depth\n",
    "        node = path[-1]\n",
    "        f = g + heuristic[node]\n",
    "        if f > bound:\n",
    "            return f\n",
    "        if is_goal(node, goal):\n",
    "            return True, g\n",
    "        min_bound = float('inf')\n",
    "        for neighbor, cost in get_successors(node):\n",
    "            if neighbor not in path:\n",
    "                path.append(neighbor)\n",
    "                explored_nodes.add(neighbor)\n",
    "                ida_max_recursion_depth = max(ida_max_recursion_depth, depth + 1)\n",
    "                result = dfs(path, g + cost, bound, depth + 1)\n",
    "                if result == True:\n",
    "                    return True, g + cost\n",
    "                if isinstance(result, tuple) and result[0] == True:\n",
    "                    return result\n",
    "                if result < min_bound:\n",
    "                    min_bound = result\n",
    "                path.pop()\n",
    "        return min_bound\n",
    "\n",
    "    bound = heuristic[start]\n",
    "    path = [start]\n",
    "    total_cost = 0\n",
    "    while True:\n",
    "        result = dfs(path, 0, bound, 0)\n",
    "        if isinstance(result, tuple) and result[0] == True:\n",
    "            return path, result[1]\n",
    "        if result == float('inf'):\n",
    "            return None, float('inf')\n",
    "        bound = result"
   ]
  },
  {
   "cell_type": "markdown",
   "metadata": {
    "id": "LEV2XHccF7sP"
   },
   "source": [
    "### DYNAMIC INPUT"
   ]
  },
  {
   "cell_type": "markdown",
   "metadata": {
    "id": "CylYRo_DF7sP"
   },
   "source": [
    "IMPORTANT : Dynamic Input must be got in this section. Display the possible states to choose from:\n",
    "This is applicable for all the relevent problems as mentioned in the question."
   ]
  },
  {
   "cell_type": "code",
   "execution_count": 7,
   "metadata": {
    "id": "Q5t1Lc-wF7sP"
   },
   "outputs": [
    {
     "name": "stdin",
     "output_type": "stream",
     "text": [
      "Enter the start city:  Chennai\n",
      "Enter the end city:  Panaji\n"
     ]
    }
   ],
   "source": [
    "#Read Inputs : Function & call to get inputs (start/end state)\n",
    "#The city names are case sensitive \n",
    "start_city = input(\"Enter the start city: \").strip()\n",
    "goal_city = input(\"Enter the end city: \").strip()\n",
    "if start_city not in graph or goal_city not in cities:\n",
    "    print(\"Invalid cities. Please enter valid city names.\")"
   ]
  },
  {
   "cell_type": "markdown",
   "metadata": {
    "id": "xsfOP81lF7sP"
   },
   "source": [
    "### 4.\tCalling the search algorithms\n",
    "(For bidirectional search in below sections first part can be used as per Hint provided. Under second section other combinations as per Hint or your choice of 2 algorithms can be called .As an analyst suggest suitable approximation in the comparitive analysis section)"
   ]
  },
  {
   "cell_type": "code",
   "execution_count": 8,
   "metadata": {
    "id": "Og5zI9thF7sP"
   },
   "outputs": [
    {
     "name": "stdout",
     "output_type": "stream",
     "text": [
      "Path taken: Chennai, Tirupathi, Bellari, Bangalore, Mangalore, Panaji\n",
      "Total cost: 1397\n"
     ]
    }
   ],
   "source": [
    "#Calling RFBS\n",
    "node_expansions = 0\n",
    "max_recursion_depth = 0\n",
    "def find_optimal_route_by_rbfs(start_city, goal_city):\n",
    "    global node_expansions\n",
    "    global max_recursion_depth\n",
    "    heuristic = compute_heuristic(goal_city)\n",
    "    path_cities, node_expansions, max_recursion_depth = rbfs(graph, heuristic, start_city, goal_city)\n",
    "\n",
    "    # Calculate total cost\n",
    "    total_cost = sum(graph[path_cities[i]][path_cities[i+1]] for i in range(len(path_cities)-1))\n",
    "    print(f\"Path taken: {', '.join(path_cities)}\")\n",
    "    print(f\"Total cost: {total_cost}\")\n",
    "\n",
    "find_optimal_route_by_rbfs(start_city, goal_city)"
   ]
  },
  {
   "cell_type": "code",
   "execution_count": 9,
   "metadata": {
    "id": "u3MJeA6eF7sP"
   },
   "outputs": [
    {
     "name": "stdout",
     "output_type": "stream",
     "text": [
      "Path found: Chennai -> Nellore -> Kurnool -> Raichur -> Panaji\n",
      "Total cost: 1057\n"
     ]
    }
   ],
   "source": [
    "#Calling IDA\n",
    "def find_optimal_route(start_city, goal_city):\n",
    "    path, cost = ida_star(start_city, goal_city)\n",
    "    if path:\n",
    "        print(\"Path found:\", \" -> \".join(path))\n",
    "        print(\"Total cost:\", cost)\n",
    "    else:\n",
    "        print(\"No path found.\")\n",
    "\n",
    "find_optimal_route(start_city, goal_city)"
   ]
  },
  {
   "cell_type": "markdown",
   "metadata": {
    "id": "TOU3Rem6F7sQ"
   },
   "source": [
    "### 5.\tComparitive Analysis"
   ]
  },
  {
   "cell_type": "code",
   "execution_count": 10,
   "metadata": {
    "id": "HG6fWwiIF7sQ"
   },
   "outputs": [
    {
     "name": "stdout",
     "output_type": "stream",
     "text": [
      "Node expansions: 6\n",
      "Max recursion depth: 6\n"
     ]
    }
   ],
   "source": [
    "#Code Block : Print the Time & Space complexity of algorithm 1\n",
    "print(f\"Node expansions: {node_expansions}\")\n",
    "print(f\"Max recursion depth: {max_recursion_depth}\")"
   ]
  },
  {
   "cell_type": "code",
   "execution_count": 11,
   "metadata": {
    "id": "xMButLKCF7sQ"
   },
   "outputs": [
    {
     "name": "stdout",
     "output_type": "stream",
     "text": [
      "Node expansions: 9\n",
      "Max recursion depth: 4\n"
     ]
    }
   ],
   "source": [
    "#Code Block : Print the Time & Space complexity of algorithm 2\n",
    "print(f\"Node expansions: {len(explored_nodes)}\")\n",
    "print(f\"Max recursion depth: {ida_max_recursion_depth}\")"
   ]
  },
  {
   "cell_type": "markdown",
   "metadata": {
    "id": "y2nXwAlsF7sQ"
   },
   "source": [
    "### 6.\tProvide your comparitive analysis or findings in no more than 3 lines in below section"
   ]
  },
  {
   "cell_type": "markdown",
   "metadata": {
    "id": "si483-zoF7sQ"
   },
   "source": [
    "Comparison : The farther the distance between cities more evident would be to be able to see the efficiencies of the search algorithm.\n",
    "Shorter distances with just adjacent cities or two cities involved would see that RFBS less node expansions although IDA has lesser recursion depth.\n",
    "IDA in farther distances clearly gives out efficient routes with less cost involved."
   ]
  }
 ],
 "metadata": {
  "colab": {
   "provenance": []
  },
  "kernelspec": {
   "display_name": "Python 3 (ipykernel)",
   "language": "python",
   "name": "python3"
  },
  "language_info": {
   "codemirror_mode": {
    "name": "ipython",
    "version": 3
   },
   "file_extension": ".py",
   "mimetype": "text/x-python",
   "name": "python",
   "nbconvert_exporter": "python",
   "pygments_lexer": "ipython3",
   "version": "3.8.8"
  }
 },
 "nbformat": 4,
 "nbformat_minor": 4
}
