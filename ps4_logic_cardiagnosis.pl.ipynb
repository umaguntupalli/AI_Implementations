{
 "cells": [
  {
   "cell_type": "markdown",
   "id": "349b329b",
   "metadata": {},
   "source": [
    "## Artificial and Computational Intelligence Assignment 2"
   ]
  },
  {
   "cell_type": "markdown",
   "id": "ef73df95",
   "metadata": {},
   "source": [
    "## Gaming with Min-Max Algorithm - Solution template"
   ]
  },
  {
   "cell_type": "markdown",
   "id": "135a6db2",
   "metadata": {},
   "source": [
    "### List only the BITS (Name) of active contributors in this assignment:\n",
    "1. ___________________\n",
    "2. __________________\n",
    "3. ____________________\n",
    "4. ___________________\n",
    "5. ___________________"
   ]
  },
  {
   "cell_type": "markdown",
   "id": "d6f97bd9",
   "metadata": {},
   "source": [
    "# Things to follow\n",
    "\n",
    "1. Use appropriate data structures to represent the graph using python libraries\n",
    "2. Provide proper documentation\n",
    "3. Create neat solution without error during game playing"
   ]
  },
  {
   "cell_type": "markdown",
   "id": "9c8fc7c1",
   "metadata": {},
   "source": [
    "### Coding begins here"
   ]
  },
  {
   "cell_type": "markdown",
   "id": "ae16f9ad",
   "metadata": {},
   "source": [
    "### PEAS - Data structures and fringes that define the Agent environment goes here"
   ]
  },
  {
   "cell_type": "code",
   "execution_count": null,
   "id": "1e1e1546",
   "metadata": {},
   "outputs": [],
   "source": [
    "#Code block"
   ]
  },
  {
   "cell_type": "markdown",
   "id": "979b8c3b",
   "metadata": {},
   "source": [
    "### Implementation of the Min-Max algorithm"
   ]
  },
  {
   "cell_type": "code",
   "execution_count": null,
   "id": "3e2fd5c8",
   "metadata": {},
   "outputs": [],
   "source": [
    "#Code block"
   ]
  },
  {
   "cell_type": "markdown",
   "id": "71d82f98",
   "metadata": {},
   "source": [
    "### Implementation of the alpha-beta pruning  "
   ]
  },
  {
   "cell_type": "code",
   "execution_count": null,
   "id": "7f807ef3",
   "metadata": {},
   "outputs": [],
   "source": [
    "#Code block"
   ]
  },
  {
   "cell_type": "markdown",
   "id": "c158f4a2",
   "metadata": {},
   "source": [
    "### Choice and implementation of the Static Evaluation Function."
   ]
  },
  {
   "cell_type": "code",
   "execution_count": null,
   "id": "ad3cab97",
   "metadata": {},
   "outputs": [],
   "source": [
    "#Code Block"
   ]
  },
  {
   "cell_type": "code",
   "execution_count": null,
   "id": "3a68e508",
   "metadata": {},
   "outputs": [],
   "source": [
    "#Code block - Start the game"
   ]
  }
 ],
 "metadata": {
  "kernelspec": {
   "display_name": "Python 3",
   "language": "python",
   "name": "python3"
  },
  "language_info": {
   "codemirror_mode": {
    "name": "ipython",
    "version": 3
   },
   "file_extension": ".py",
   "mimetype": "text/x-python",
   "name": "python",
   "nbconvert_exporter": "python",
   "pygments_lexer": "ipython3",
   "version": "3.8.8"
  }
 },
 "nbformat": 4,
 "nbformat_minor": 5
}
